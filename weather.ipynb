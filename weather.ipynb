{
  "cells": [
    {
      "cell_type": "markdown",
      "metadata": {
        "id": "view-in-github",
        "colab_type": "text"
      },
      "source": [
        "<a href=\"https://colab.research.google.com/github/nidhi-158/FeynnLabs_1st/blob/main/weather.ipynb\" target=\"_parent\"><img src=\"https://colab.research.google.com/assets/colab-badge.svg\" alt=\"Open In Colab\"/></a>"
      ]
    },
    {
      "cell_type": "code",
      "execution_count": null,
      "metadata": {
        "id": "rZmhpOXUocnc"
      },
      "outputs": [],
      "source": [
        "\n",
        "import pandas as pd\n",
        "from sklearn.model_selection import train_test_split\n",
        "from sklearn.preprocessing import StandardScaler, LabelEncoder\n",
        "from sklearn.ensemble import RandomForestClassifier\n",
        "from sklearn.metrics import classification_report\n"
      ]
    },
    {
      "cell_type": "code",
      "source": [
        "df=pd.read_csv(\"/content/weatherHistory.csv\")"
      ],
      "metadata": {
        "id": "JDqo_4B3hklR"
      },
      "execution_count": null,
      "outputs": []
    },
    {
      "cell_type": "code",
      "source": [
        "df.columns"
      ],
      "metadata": {
        "colab": {
          "base_uri": "https://localhost:8080/"
        },
        "id": "8ww692mDhoE8",
        "outputId": "5592c440-d3ab-420e-a9f2-b240af7b5028"
      },
      "execution_count": null,
      "outputs": [
        {
          "output_type": "execute_result",
          "data": {
            "text/plain": [
              "Index(['Formatted Date', 'Summary', 'Precip Type', 'Temperature (C)',\n",
              "       'Apparent Temperature (C)', 'Humidity', 'Wind Speed (km/h)',\n",
              "       'Wind Bearing (degrees)', 'Visibility (km)', 'Loud Cover',\n",
              "       'Pressure (millibars)', 'Daily Summary'],\n",
              "      dtype='object')"
            ]
          },
          "metadata": {},
          "execution_count": 3
        }
      ]
    },
    {
      "cell_type": "code",
      "execution_count": null,
      "metadata": {
        "id": "TRGXaYUmsnGK"
      },
      "outputs": [],
      "source": [
        "data=pd.read_csv(\"/content/weatherHistory.csv\")\n",
        "\n",
        "# Display the first few rows of the dataset\n",
        "#print(data.head())\n",
        "\n",
        "# Identify categorical and numerical features\n",
        "categorical_features = ['Summary', 'Precip Type']\n",
        "numerical_features = ['Temperature (C)', 'Apparent Temperature (C)', 'Humidity', 'Wind Speed (km/h)', 'Wind Bearing (degrees)', 'Visibility (km)', 'Pressure (millibars)']\n",
        "\n",
        "# Drop 'Formatted Date' and 'Loud Cover' since they are not useful for prediction\n",
        "data = data.drop(['Formatted Date', 'Loud Cover'], axis=1)\n",
        "\n",
        "# Handle missing values if any\n",
        "data = data.dropna()\n",
        "\n",
        "# Encode categorical features\n",
        "data_encoded = pd.get_dummies(data, columns=categorical_features, drop_first=True)\n",
        "\n",
        "# Label encode the target variable 'Daily Summary'\n",
        "label_encoder = LabelEncoder()\n",
        "data_encoded['Daily Summary'] = label_encoder.fit_transform(data_encoded['Daily Summary'])\n",
        "\n"
      ]
    },
    {
      "cell_type": "code",
      "execution_count": null,
      "metadata": {
        "id": "KQWt2mnosw7Z"
      },
      "outputs": [],
      "source": [
        "# Split data into features and target\n",
        "X = data_encoded.drop('Daily Summary', axis=1)\n",
        "y = data_encoded['Daily Summary']\n",
        "\n",
        "# Split data into training and testing sets\n",
        "X_train, X_test, y_train, y_test = train_test_split(X, y, test_size=0.2, random_state=42)\n",
        "\n",
        "# Normalize numerical features\n",
        "scaler = StandardScaler()\n",
        "X_train[numerical_features] = scaler.fit_transform(X_train[numerical_features])\n",
        "X_test[numerical_features] = scaler.transform(X_test[numerical_features])\n",
        "\n",
        "# Initialize and train the model\n",
        "model = RandomForestClassifier(random_state=42)\n",
        "model.fit(X_train, y_train)\n",
        "\n",
        "# Evaluate the model on the test set\n",
        "y_pred = model.predict(X_test)\n",
        "#print(classification_report(y_test, y_pred, target_names=label_encoder.classes_))\n",
        "\n"
      ]
    },
    {
      "cell_type": "code",
      "execution_count": null,
      "metadata": {
        "colab": {
          "base_uri": "https://localhost:8080/"
        },
        "id": "uqjlwiWDtiQg",
        "outputId": "062048a5-f973-4f8b-aeaa-134eaa5bd265"
      },
      "outputs": [
        {
          "output_type": "stream",
          "name": "stdout",
          "text": [
            "Enter Summary: Partly Cloudy\n",
            "Enter Precip Type: rain\n",
            "Enter Temperature (C): 9.5\n",
            "Enter Apparent Temperature (C): 7.35\n",
            "Enter Humidity: 0.9\n",
            "Enter Wind Speed (km/h): 14.12\n",
            "Enter Wind Bearing (degrees): 251\n",
            "Enter Visibility (km): 15.83\n",
            "Enter Pressure (millibars): 1015.4\n",
            "Predicted Daily Summary: Partly cloudy throughout the day.\n"
          ]
        }
      ],
      "source": [
        "def get_user_input():\n",
        "    # Get inputs from the user\n",
        "    summary = input(\"Enter Summary: \")\n",
        "    precip_type = input(\"Enter Precip Type: \")\n",
        "    temperature = float(input(\"Enter Temperature (C): \"))\n",
        "    apparent_temperature = float(input(\"Enter Apparent Temperature (C): \"))\n",
        "    humidity = float(input(\"Enter Humidity: \"))\n",
        "    wind_speed = float(input(\"Enter Wind Speed (km/h): \"))\n",
        "    wind_bearing = int(input(\"Enter Wind Bearing (degrees): \"))\n",
        "    visibility = float(input(\"Enter Visibility (km): \"))\n",
        "    pressure = float(input(\"Enter Pressure (millibars): \"))\n",
        "\n",
        "    # Create a dictionary with the input values\n",
        "    user_data = {\n",
        "        'Summary': [summary],\n",
        "        'Precip Type': [precip_type],\n",
        "        'Temperature (C)': [temperature],\n",
        "        'Apparent Temperature (C)': [apparent_temperature],\n",
        "        'Humidity': [humidity],\n",
        "        'Wind Speed (km/h)': [wind_speed],\n",
        "        'Wind Bearing (degrees)': [wind_bearing],\n",
        "        'Visibility (km)': [visibility],\n",
        "        'Pressure (millibars)': [pressure]\n",
        "    }\n",
        "\n",
        "    return pd.DataFrame(user_data)\n",
        "\n",
        "# New input data\n",
        "new_data_df = get_user_input()\n",
        "\n",
        "# Perform one-hot encoding on the new input data\n",
        "new_data_encoded = pd.get_dummies(new_data_df, columns=categorical_features)\n",
        "\n",
        "# Align the new data with the training data format (ensure all columns match)\n",
        "new_data_encoded = new_data_encoded.reindex(columns=X.columns, fill_value=0)\n",
        "\n",
        "# Normalize numerical features\n",
        "new_data_encoded[numerical_features] = scaler.transform(new_data_encoded[numerical_features])\n",
        "\n",
        "# Make prediction\n",
        "predicted_summary = model.predict(new_data_encoded)\n",
        "\n",
        "# Decode the predicted label\n",
        "predicted_summary_decoded = label_encoder.inverse_transform(predicted_summary)\n",
        "\n",
        "# Output the predicted daily summary\n",
        "print(f\"Predicted Daily Summary: {predicted_summary_decoded[0]}\")"
      ]
    },
    {
      "cell_type": "code",
      "source": [
        "import pandas as pd\n",
        "from sklearn.model_selection import train_test_split\n",
        "from sklearn.preprocessing import StandardScaler, LabelEncoder\n",
        "from sklearn.ensemble import RandomForestClassifier\n",
        "from sklearn.metrics import classification_report\n",
        "\n",
        "# Load the dataset\n",
        "data = pd.read_csv(\"/content/weatherHistory.csv\")\n",
        "\n",
        "# Drop 'Formatted Date' and 'Loud Cover' since they are not useful for prediction\n",
        "data = data.drop(['Formatted Date', 'Loud Cover'], axis=1)\n",
        "\n",
        "# Handle missing values if any\n",
        "data = data.dropna()\n",
        "\n",
        "# Identify categorical and numerical features\n",
        "categorical_features = ['Summary', 'Precip Type']\n",
        "numerical_features = ['Temperature (C)', 'Apparent Temperature (C)', 'Humidity', 'Wind Speed (km/h)', 'Wind Bearing (degrees)', 'Visibility (km)', 'Pressure (millibars)']\n",
        "\n",
        "# Encode categorical features\n",
        "data_encoded = pd.get_dummies(data, columns=categorical_features, drop_first=True)\n",
        "\n",
        "# Label encode the target variable 'Daily Summary'\n",
        "label_encoder = LabelEncoder()\n",
        "data_encoded['Daily Summary'] = label_encoder.fit_transform(data_encoded['Daily Summary'])\n",
        "\n",
        "# Split data into features and target\n",
        "X = data_encoded.drop('Daily Summary', axis=1)\n",
        "y = data_encoded['Daily Summary']\n",
        "\n",
        "# Split data into training and testing sets\n",
        "X_train, X_test, y_train, y_test = train_test_split(X, y, test_size=0.2, random_state=42)\n",
        "\n",
        "# Normalize numerical features\n",
        "scaler = StandardScaler()\n",
        "X_train[numerical_features] = scaler.fit_transform(X_train[numerical_features])\n",
        "X_test[numerical_features] = scaler.transform(X_test[numerical_features])\n",
        "\n",
        "# Initialize and train the model\n",
        "model = RandomForestClassifier(random_state=42)\n",
        "model.fit(X_train, y_train)\n",
        "\n",
        "# Evaluate the model on the test set\n",
        "y_pred = model.predict(X_test)\n",
        "#print(classification_report(y_test, y_pred, target_names=label_encoder.classes_))\n",
        "\n",
        "# Get inputs from the user\n",
        "summary = input(\"Enter Summary: \")\n",
        "precip_type = input(\"Enter Precip Type: \")\n",
        "temperature = float(input(\"Enter Temperature (C): \"))\n",
        "apparent_temperature = float(input(\"Enter Apparent Temperature (C): \"))\n",
        "humidity = float(input(\"Enter Humidity: \"))\n",
        "wind_speed = float(input(\"Enter Wind Speed (km/h): \"))\n",
        "wind_bearing = int(input(\"Enter Wind Bearing (degrees): \"))\n",
        "visibility = float(input(\"Enter Visibility (km): \"))\n",
        "pressure = float(input(\"Enter Pressure (millibars): \"))\n",
        "\n",
        "# Create a dictionary with the input values\n",
        "user_data = {\n",
        "    'Summary': [summary],\n",
        "    'Precip Type': [precip_type],\n",
        "    'Temperature (C)': [temperature],\n",
        "    'Apparent Temperature (C)': [apparent_temperature],\n",
        "    'Humidity': [humidity],\n",
        "    'Wind Speed (km/h)': [wind_speed],\n",
        "    'Wind Bearing (degrees)': [wind_bearing],\n",
        "    'Visibility (km)': [visibility],\n",
        "    'Pressure (millibars)': [pressure]\n",
        "}\n",
        "\n",
        "# Convert to DataFrame\n",
        "new_data_df = pd.DataFrame(user_data)\n",
        "\n",
        "# Perform one-hot encoding on the new input data\n",
        "new_data_encoded = pd.get_dummies(new_data_df, columns=categorical_features)\n",
        "\n",
        "# Align the new data with the training data format (ensure all columns match)\n",
        "new_data_encoded = new_data_encoded.reindex(columns=X.columns, fill_value=0)\n",
        "\n",
        "# Normalize numerical features\n",
        "new_data_encoded[numerical_features] = scaler.transform(new_data_encoded[numerical_features])\n",
        "\n",
        "# Make prediction\n",
        "predicted_summary = model.predict(new_data_encoded)\n",
        "\n",
        "# Decode the predicted label\n",
        "predicted_summary_decoded = label_encoder.inverse_transform(predicted_summary)\n",
        "\n",
        "# Output the predicted daily summary\n",
        "print(f\"Predicted Daily Summary: {predicted_summary_decoded[0]}\")\n"
      ],
      "metadata": {
        "id": "TldBco1PykcG",
        "colab": {
          "base_uri": "https://localhost:8080/"
        },
        "outputId": "cb08c30c-1d93-4049-a769-5bdd30f24ef8"
      },
      "execution_count": null,
      "outputs": [
        {
          "output_type": "stream",
          "name": "stdout",
          "text": [
            "Enter Summary: Partly Cloudy\n",
            "Enter Precip Type: rain\n",
            "Enter Temperature (C): 9.8\n",
            "Enter Apparent Temperature (C): 7.4\n",
            "Enter Humidity: .8\n",
            "Enter Wind Speed (km/h): 250\n",
            "Enter Wind Bearing (degrees): 253\n",
            "Enter Visibility (km): 15.4\n",
            "Enter Pressure (millibars): 1014.9\n",
            "Predicted Daily Summary: Partly cloudy throughout the day.\n"
          ]
        }
      ]
    }
  ],
  "metadata": {
    "colab": {
      "provenance": [],
      "authorship_tag": "ABX9TyPq7cdHXRu9c4RDsHuqRueN",
      "include_colab_link": true
    },
    "kernelspec": {
      "display_name": "Python 3",
      "name": "python3"
    },
    "language_info": {
      "name": "python"
    }
  },
  "nbformat": 4,
  "nbformat_minor": 0
}